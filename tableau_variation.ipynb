{
 "cells": [
  {
   "cell_type": "code",
   "execution_count": 54,
   "metadata": {},
   "outputs": [],
   "source": [
    "import sympy as sp\n",
    "import tkinter as tk\n",
    "from sympy import *\n",
    "from tkinter import *\n",
    "import random as rd\n",
    "\n",
    "# VARIABLES\n",
    "couleur_bg = \"#F0B27A\"\n",
    "font_frame = \"Arial 12 bold\"\n",
    "font_cnv= \"Times 14 bold\"\n",
    "\n",
    "# GRANDE FENETRE\n",
    "nom = Tk()\n",
    "nom.title('Générateur de afficher_tableau de variation')\n",
    "nom.config(bg=couleur_bg)\n",
    "\n",
    "# PREMIERE BOITE\n",
    "frame = Frame(nom, bg=couleur_bg)\n",
    "\n",
    "# DEUXIEME BOITE\n",
    "cnv = Canvas(frame, width=1150, height=660, background=couleur_bg)\n",
    "cnv.pack()\n",
    "\n",
    "bouton = Button(frame, text=\"Générer\",font = \"Times 11 bold\", command=tout_afficher)\n",
    "bouton.place(x=800, y=58)\n",
    "frame.pack()\n",
    "\n",
    "\n"
   ]
  },
  {
   "cell_type": "code",
   "execution_count": 55,
   "metadata": {},
   "outputs": [],
   "source": [
    "# INPUT\n",
    "cnv.create_text(140, 70, text=\"Entrez une fonction :\", font=font_frame)\n",
    "cnv.create_text(538, 45, text=\"Borne 1\", font=font_frame)\n",
    "cnv.create_text(668, 45, text=\"Borne 2\", font=font_frame)\n",
    "\n",
    "default_function = \"x**3+x**2-x**4-x**5\"\n",
    "default_borne1 = \"-100\"\n",
    "default_borne2 = \"100\"\n",
    "function_var = StringVar()\n",
    "borne1_var = StringVar()\n",
    "borne2_var = StringVar()\n",
    "function_var.set(default_function)\n",
    "borne1_var.set(default_borne1)\n",
    "borne2_var.set(default_borne2)\n",
    "entree_fonction = Entry(frame, width=20, font=\"Arial 12\", bg=\"#F0B27A\", textvariable=function_var)\n",
    "borne_1 = Entry(frame, width=8, font=\"Arial 12\", bg=\"#F0B27A\", textvariable=borne1_var)\n",
    "borne_2 = Entry(frame, width=8, font=\"Arial 12\", bg=\"#F0B27A\", textvariable=borne2_var)\n",
    "\n",
    "entree_fonction.place(x=225, y=60)\n",
    "borne_1.place(x=500, y=60)\n",
    "borne_2.place(x=630, y=60)\n",
    "cnv1 = Canvas(cnv, width=900, height=400, background=couleur_bg)"
   ]
  },
  {
   "cell_type": "code",
   "execution_count": 56,
   "metadata": {},
   "outputs": [],
   "source": [
    "def afficher_tableau():\n",
    "    cnv1.place(x=100, y=130)\n",
    "    cnv1.create_line(0, 60, 1000, 60, width=2, fill='black')\n",
    "    cnv1.create_line(100, 0, 100, 300, width=2, fill='black')\n",
    "    cnv1.create_line(0, 120, 1000, 120, width=2, fill='black')\n",
    "    cnv1.update()\n",
    "    cnv1.create_text(50, 35, text=\"x\", font=\"Times 25 bold\")\n",
    "    cnv1.create_text(50, 90, text=\"f '(x)\", font=\"Times 25 bold\")\n",
    "    cnv1.create_text(50, 180, text=\"f (x)\", font=\"Times 25 bold\")\n",
    "    bbox = cnv1.bbox(\"all\")\n",
    "    cnv1.config(width=bbox[2] - bbox[0], height=bbox[3] - bbox[1])"
   ]
  },
  {
   "cell_type": "code",
   "execution_count": 61,
   "metadata": {},
   "outputs": [],
   "source": [
    "\n",
    "\n",
    "def afficher_resultat():\n",
    "    \n",
    "    # def sp(expr):  \n",
    "    #     expr1 = sympify(expr)\n",
    "    #     expr2 = float(expr1)\n",
    "    #     expr3 = '{:.2f}'.format(expr2)\n",
    "    #     return expr3\n",
    "    def arrondir(expr):\n",
    "        expr_arrondie = '{:.2f}'.format(expr)\n",
    "        \n",
    "    #INTERVALLES\n",
    "    cnv1.delete(\"derivative\")\n",
    "    borne_1_val, borne_2_val = borne_1.get(), borne_2.get()\n",
    "    borne_1_val, borne_2_val = sympify(borne_1_val), sympify(borne_2_val) \n",
    "    if borne_2_val < borne_1_val:\n",
    "        borne_1_val, borne_2_val = borne_2_val, borne_1_val\n",
    "    borne_1_val = float(borne_1_val)\n",
    "    borne_2_val = float(borne_2_val)\n",
    "    cnv1.create_text(130, 35, text=borne_1_val, font= font_cnv, tags='derivative')\n",
    "    cnv1.create_text(950, 35, text=borne_2_val, font=font_cnv, tags='derivative')\n",
    "    \n",
    "    #DERIVEE\n",
    "    fonction = entree_fonction.get()  # Récupère la fonction depuis le champ de saisie\n",
    "    x = symbols('x')\n",
    "    f = sympify(fonction)\n",
    "    f_prime = diff(f,x)\n",
    "    f_prime_0 = solve(f_prime, x)\n",
    "    f_prime_0 = sorted(f_prime_0)\n",
    "    #f_prime_0 = [solution for solution in f_prime_0 if borne_1_val <= solution <= borne_2_val]\n",
    "\n",
    "    \n",
    "    # PRINT DERIVEE EN 0\n",
    "    nb_solutions = len(f_prime_0)\n",
    "    a = 1075  # Largeur totale \n",
    "    distance_entre_valeur = a / (nb_solutions + 1)  # Calcul de la distance entre les valeurs\n",
    "    \n",
    "    \n",
    "\n",
    "    for i , solution in enumerate(f_prime_0):\n",
    "        position = (i + 1) * distance_entre_valeur  # Calcul de la position horizontale\n",
    "        solution = solution.evalf()\n",
    "        position_y = 30\n",
    "        solution_arrondie = '{:.2f}'.format(solution) #arrondie apres 3chiffres apres virgule \n",
    "        cnv1.create_text(position, position_y, text=solution_arrondie, font=font_cnv , tags= 'derivative')\n",
    "        cnv1.create_text(position, position_y+60, text='0', font=font_cnv, tags = 'derivative')\n",
    "\n",
    "        # LES SIGNES\n",
    "        if i == 0:\n",
    "            x_value = rd.uniform(borne_1_val, solution)\n",
    "        else:\n",
    "            x_value = rd.uniform(f_prime_0[i - 1], solution)\n",
    "        if i == len(f_prime_0) - 1:\n",
    "            x_value1 = rd.uniform(f_prime_0[i], borne_2_val)\n",
    "            signe_1 = f_prime.subs(x, x_value1)\n",
    "            cnv1.create_text(position + 40, 90, text=signe, tags='derivative')\n",
    "        signe_1 = f_prime.subs(x, x_value)\n",
    "        if signe_1 > 0:\n",
    "            signe = '+'\n",
    "        else:\n",
    "            signe = '-'        \n",
    "        cnv1.create_text(position - 40, 90, text=signe, tags='derivative')\n",
    "\n",
    "\n",
    "        #F(x)\n",
    "        f = sympify(f)\n",
    "        fx_borne_1 = f.subs(x, borne_1_val)\n",
    "        fx_borne_2 = f.subs(x, borne_2_val)\n",
    "        fx_borne_1 = arrondir(fx_borne_1)\n",
    "        fx_borne_2 = arrondir(fx_borne_2)\n",
    "        cnv1.create_text(130, position_y+110, text=fx_borne_1, font=font_cnv)\n",
    "        cnv1.create_text(950, position_y+110, text=fx_borne_2, font=font_cnv)\n",
    "        fx = f.subs(x, solution)\n",
    "        fx = arrondir(fx)\n",
    "        # if i == 0 :       \n",
    "        #     if fx > fx_borne_1:\n",
    "        #         cnv1.create_text(position, position_y+110, text=fx, font=font_cnv)\n",
    "        #     else:\n",
    "        #         cnv1.create_text(position, position_y+250, text=fx, font=font_cnv)\n",
    "        # Liste_fx.append(fx)\n",
    "        # print(Liste_fx)\n",
    "\n",
    "        # if i>0:\n",
    "        #     if fx > Liste_fx[i-1]:\n",
    "        #         cnv1.create_text(position, position_y+110, text=fx, font=font_cnv)\n",
    "        #     else: \n",
    "        #         cnv1.create_text(position, position_y+250, text=fx, font=font_cnv)"
   ]
  },
  {
   "cell_type": "code",
   "execution_count": 62,
   "metadata": {},
   "outputs": [
    {
     "ename": "TclError",
     "evalue": "can't invoke \"place\" command: application has been destroyed",
     "output_type": "error",
     "traceback": [
      "\u001b[1;31m---------------------------------------------------------------------------\u001b[0m",
      "\u001b[1;31mTclError\u001b[0m                                  Traceback (most recent call last)",
      "\u001b[1;32mc:\\Users\\Louis\\Desktop\\tableau variation\\tableau_variation.ipynb Cellule 5\u001b[0m line \u001b[0;36m5\n\u001b[0;32m      <a href='vscode-notebook-cell:/c%3A/Users/Louis/Desktop/tableau%20variation/tableau_variation.ipynb#X11sZmlsZQ%3D%3D?line=0'>1</a>\u001b[0m \u001b[39mdef\u001b[39;00m \u001b[39mtout_afficher\u001b[39m():\n\u001b[0;32m      <a href='vscode-notebook-cell:/c%3A/Users/Louis/Desktop/tableau%20variation/tableau_variation.ipynb#X11sZmlsZQ%3D%3D?line=1'>2</a>\u001b[0m     afficher_resultat()\n\u001b[1;32m----> <a href='vscode-notebook-cell:/c%3A/Users/Louis/Desktop/tableau%20variation/tableau_variation.ipynb#X11sZmlsZQ%3D%3D?line=4'>5</a>\u001b[0m afficher_tableau()\n\u001b[0;32m      <a href='vscode-notebook-cell:/c%3A/Users/Louis/Desktop/tableau%20variation/tableau_variation.ipynb#X11sZmlsZQ%3D%3D?line=5'>6</a>\u001b[0m nom\u001b[39m.\u001b[39mmainloop()\n",
      "\u001b[1;32mc:\\Users\\Louis\\Desktop\\tableau variation\\tableau_variation.ipynb Cellule 5\u001b[0m line \u001b[0;36m2\n\u001b[0;32m      <a href='vscode-notebook-cell:/c%3A/Users/Louis/Desktop/tableau%20variation/tableau_variation.ipynb#X11sZmlsZQ%3D%3D?line=0'>1</a>\u001b[0m \u001b[39mdef\u001b[39;00m \u001b[39mafficher_tableau\u001b[39m():\n\u001b[1;32m----> <a href='vscode-notebook-cell:/c%3A/Users/Louis/Desktop/tableau%20variation/tableau_variation.ipynb#X11sZmlsZQ%3D%3D?line=1'>2</a>\u001b[0m     cnv1\u001b[39m.\u001b[39;49mplace(x\u001b[39m=\u001b[39;49m\u001b[39m100\u001b[39;49m, y\u001b[39m=\u001b[39;49m\u001b[39m130\u001b[39;49m)\n\u001b[0;32m      <a href='vscode-notebook-cell:/c%3A/Users/Louis/Desktop/tableau%20variation/tableau_variation.ipynb#X11sZmlsZQ%3D%3D?line=2'>3</a>\u001b[0m     cnv1\u001b[39m.\u001b[39mcreate_line(\u001b[39m0\u001b[39m, \u001b[39m60\u001b[39m, \u001b[39m1000\u001b[39m, \u001b[39m60\u001b[39m, width\u001b[39m=\u001b[39m\u001b[39m2\u001b[39m, fill\u001b[39m=\u001b[39m\u001b[39m'\u001b[39m\u001b[39mblack\u001b[39m\u001b[39m'\u001b[39m)\n\u001b[0;32m      <a href='vscode-notebook-cell:/c%3A/Users/Louis/Desktop/tableau%20variation/tableau_variation.ipynb#X11sZmlsZQ%3D%3D?line=3'>4</a>\u001b[0m     cnv1\u001b[39m.\u001b[39mcreate_line(\u001b[39m100\u001b[39m, \u001b[39m0\u001b[39m, \u001b[39m100\u001b[39m, \u001b[39m300\u001b[39m, width\u001b[39m=\u001b[39m\u001b[39m2\u001b[39m, fill\u001b[39m=\u001b[39m\u001b[39m'\u001b[39m\u001b[39mblack\u001b[39m\u001b[39m'\u001b[39m)\n",
      "File \u001b[1;32mC:\\Program Files\\WindowsApps\\PythonSoftwareFoundation.Python.3.10_3.10.3056.0_x64__qbz5n2kfra8p0\\lib\\tkinter\\__init__.py:2477\u001b[0m, in \u001b[0;36mPlace.place_configure\u001b[1;34m(self, cnf, **kw)\u001b[0m\n\u001b[0;32m   2455\u001b[0m \u001b[39mdef\u001b[39;00m \u001b[39mplace_configure\u001b[39m(\u001b[39mself\u001b[39m, cnf\u001b[39m=\u001b[39m{}, \u001b[39m*\u001b[39m\u001b[39m*\u001b[39mkw):\n\u001b[0;32m   2456\u001b[0m     \u001b[39m\"\"\"Place a widget in the parent widget. Use as options:\u001b[39;00m\n\u001b[0;32m   2457\u001b[0m \u001b[39m    in=master - master relative to which the widget is placed\u001b[39;00m\n\u001b[0;32m   2458\u001b[0m \u001b[39m    in_=master - see 'in' option description\u001b[39;00m\n\u001b[1;32m   (...)\u001b[0m\n\u001b[0;32m   2475\u001b[0m \u001b[39m                                       master widget into account\u001b[39;00m\n\u001b[0;32m   2476\u001b[0m \u001b[39m    \"\"\"\u001b[39;00m\n\u001b[1;32m-> 2477\u001b[0m     \u001b[39mself\u001b[39;49m\u001b[39m.\u001b[39;49mtk\u001b[39m.\u001b[39;49mcall(\n\u001b[0;32m   2478\u001b[0m           (\u001b[39m'\u001b[39;49m\u001b[39mplace\u001b[39;49m\u001b[39m'\u001b[39;49m, \u001b[39m'\u001b[39;49m\u001b[39mconfigure\u001b[39;49m\u001b[39m'\u001b[39;49m, \u001b[39mself\u001b[39;49m\u001b[39m.\u001b[39;49m_w)\n\u001b[0;32m   2479\u001b[0m           \u001b[39m+\u001b[39;49m \u001b[39mself\u001b[39;49m\u001b[39m.\u001b[39;49m_options(cnf, kw))\n",
      "\u001b[1;31mTclError\u001b[0m: can't invoke \"place\" command: application has been destroyed"
     ]
    }
   ],
   "source": [
    "def tout_afficher():\n",
    "    afficher_resultat()\n",
    "\n",
    "\n",
    "afficher_tableau()\n",
    "nom.mainloop()"
   ]
  },
  {
   "cell_type": "code",
   "execution_count": 106,
   "metadata": {},
   "outputs": [],
   "source": [
    "code_latex =r\"\"\" \\documentclass{article}\n",
    "    \n",
    "\\usepackage{tkz-tab}\n",
    "\n",
    "\\begin{document}\n",
    "DONNER LES VARIATIONS DE f(x)\\\\\n",
    "\n",
    "$f(x)=- x^{5} - x^{4} + x^{3} + x^{2}$\\\\\n",
    "$f'(x)= - 5 x^{4} - 4 x^{3} + 3 x^{2} + 2 x$\\\\\n",
    "\n",
    "    \n",
    "\n",
    "\\begin{tikzpicture}\n",
    "\n",
    "   \\tkzTabInit[espcl=2]{$x$ / 1 , $f'(x)$ / 1, variation de $f(x)$/1.5}\n",
    "   {$+\\infty$, $-1$,$-0.54$,$0$,$0.74$,$-\\infty$}\n",
    "\n",
    "   \\tkzTabLine{,-,z,+,z,-,z,+,z,-,+\\infty}\n",
    "   \\tkzTabVar{+/$+\\infty$,-/$0$,+/$0.1$,-/$0$,+/$0.43$,-/$-\\infty$}\n",
    "\n",
    "\\end{tikzpicture}\n",
    "\n",
    "\n",
    "\\end{document}\n",
    "\"\"\"\n",
    "with open(\"latex.tex\",\"w+\") as file:\n",
    "   file.write(code_latex)\n",
    "   file.close"
   ]
  },
  {
   "cell_type": "code",
   "execution_count": 48,
   "metadata": {},
   "outputs": [],
   "source": [
    "import sympy as sp\n",
    "import tkinter as tk\n",
    "from sympy import *\n",
    "from tkinter import *\n",
    "import random as rd"
   ]
  },
  {
   "cell_type": "code",
   "execution_count": 49,
   "metadata": {},
   "outputs": [],
   "source": [
    "x = sp.symbols('x')\n",
    "expr = x**3+x**2-x**4-x**5"
   ]
  },
  {
   "cell_type": "code",
   "execution_count": 50,
   "metadata": {},
   "outputs": [
    {
     "name": "stdout",
     "output_type": "stream",
     "text": [
      "- x^{5} - x^{4} + x^{3} + x^{2}\n",
      "-5*x**4 - 4*x**3 + 3*x**2 + 2*x\n",
      "- 5 x^{4} - 4 x^{3} + 3 x^{2} + 2 x\n"
     ]
    }
   ],
   "source": [
    "print(sp.latex(expr))\n",
    "print(expr.diff(x))\n",
    "print(sp.latex(expr.diff(x)))"
   ]
  },
  {
   "cell_type": "code",
   "execution_count": 51,
   "metadata": {},
   "outputs": [
    {
     "ename": "NameError",
     "evalue": "name 'a' is not defined",
     "output_type": "error",
     "traceback": [
      "\u001b[1;31m---------------------------------------------------------------------------\u001b[0m",
      "\u001b[1;31mNameError\u001b[0m                                 Traceback (most recent call last)",
      "\u001b[1;32mc:\\Users\\Louis\\Desktop\\tableau variation\\tableau_variation.ipynb Cellule 9\u001b[0m line \u001b[0;36m3\n\u001b[0;32m      <a href='vscode-notebook-cell:/c%3A/Users/Louis/Desktop/tableau%20variation/tableau_variation.ipynb#W6sZmlsZQ%3D%3D?line=0'>1</a>\u001b[0m expr\n\u001b[1;32m----> <a href='vscode-notebook-cell:/c%3A/Users/Louis/Desktop/tableau%20variation/tableau_variation.ipynb#W6sZmlsZQ%3D%3D?line=2'>3</a>\u001b[0m a\n",
      "\u001b[1;31mNameError\u001b[0m: name 'a' is not defined"
     ]
    }
   ],
   "source": [
    "expr\n"
   ]
  },
  {
   "cell_type": "markdown",
   "metadata": {},
   "source": [
    "\\documentclass{}\n",
    "$3 + \\frac{1}{\\sqrt{x}}$\n"
   ]
  }
 ],
 "metadata": {
  "kernelspec": {
   "display_name": "Python 3",
   "language": "python",
   "name": "python3"
  },
  "language_info": {
   "codemirror_mode": {
    "name": "ipython",
    "version": 3
   },
   "file_extension": ".py",
   "mimetype": "text/x-python",
   "name": "python",
   "nbconvert_exporter": "python",
   "pygments_lexer": "ipython3",
   "version": "3.10.11"
  },
  "orig_nbformat": 4
 },
 "nbformat": 4,
 "nbformat_minor": 2
}
